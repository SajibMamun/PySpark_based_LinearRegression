{
  "nbformat": 4,
  "nbformat_minor": 0,
  "metadata": {
    "colab": {
      "provenance": []
    },
    "kernelspec": {
      "name": "python3",
      "display_name": "Python 3"
    },
    "language_info": {
      "name": "python"
    }
  },
  "cells": [
    {
      "cell_type": "code",
      "execution_count": 25,
      "metadata": {
        "colab": {
          "base_uri": "https://localhost:8080/"
        },
        "id": "dOU2GC8_vaWN",
        "outputId": "8ebb7e3f-8086-4887-8786-ca52f356d8fe"
      },
      "outputs": [
        {
          "output_type": "stream",
          "name": "stdout",
          "text": [
            "Requirement already satisfied: pySpark in /usr/local/lib/python3.10/dist-packages (3.4.1)\n",
            "Requirement already satisfied: py4j==0.10.9.7 in /usr/local/lib/python3.10/dist-packages (from pySpark) (0.10.9.7)\n"
          ]
        }
      ],
      "source": [
        "#install pySpark\n",
        "!pip install pySpark\n"
      ]
    },
    {
      "cell_type": "code",
      "source": [
        "#import libraries and load dataset\n",
        "from pyspark.sql import SparkSession\n",
        "spark= SparkSession.builder.appName(\"test_pyspark\").getOrCreate()"
      ],
      "metadata": {
        "id": "v9tbkIZTvllN"
      },
      "execution_count": 2,
      "outputs": []
    },
    {
      "cell_type": "code",
      "source": [
        "df= spark.read.csv(\"/content/sample_data/california_housing_train.csv\",header=True,inferSchema= True)"
      ],
      "metadata": {
        "id": "bT7K1i3hwU_N"
      },
      "execution_count": null,
      "outputs": []
    },
    {
      "cell_type": "code",
      "source": [
        "df"
      ],
      "metadata": {
        "colab": {
          "base_uri": "https://localhost:8080/"
        },
        "id": "Dm0EgrDpxWec",
        "outputId": "846340be-30e2-40ea-b191-677b6d40b252"
      },
      "execution_count": null,
      "outputs": [
        {
          "output_type": "execute_result",
          "data": {
            "text/plain": [
              "DataFrame[longitude: double, latitude: double, housing_median_age: double, total_rooms: double, total_bedrooms: double, population: double, households: double, median_income: double, median_house_value: double]"
            ]
          },
          "metadata": {},
          "execution_count": 41
        }
      ]
    },
    {
      "cell_type": "code",
      "source": [
        "df_train= spark.read.csv(\"/content/Cost_of_Living_Index_2022.csv\",header=True,inferSchema= True)"
      ],
      "metadata": {
        "id": "UjzrdduKxnYl"
      },
      "execution_count": 4,
      "outputs": []
    },
    {
      "cell_type": "code",
      "source": [
        "df_train.show()"
      ],
      "metadata": {
        "colab": {
          "base_uri": "https://localhost:8080/"
        },
        "id": "GoO0T3GSxeG2",
        "outputId": "c1fa9c2d-0b31-4672-84b8-23c141a06c21"
      },
      "execution_count": 5,
      "outputs": [
        {
          "output_type": "stream",
          "name": "stdout",
          "text": [
            "+----+--------------------+--------------------+----------+------------------------------+---------------+----------------------+----------------------------+\n",
            "|Rank|             Country|Cost of Living Index|Rent Index|Cost of Living Plus Rent Index|Groceries Index|Restaurant Price Index|Local Purchasing Power Index|\n",
            "+----+--------------------+--------------------+----------+------------------------------+---------------+----------------------+----------------------------+\n",
            "|   1|         Afghanistan|               20.37|      2.72|                         12.09|          14.92|                 12.41|                       23.04|\n",
            "|   2|             Albania|                35.5|      8.47|                         22.83|          29.32|                 25.82|                       30.19|\n",
            "|   3|             Algeria|               26.87|      4.59|                         16.43|          28.82|                 14.48|                       24.63|\n",
            "|   4|           Argentina|               34.69|      7.71|                         22.04|          28.17|                 33.32|                       30.72|\n",
            "|   5|             Armenia|               33.89|     11.61|                         23.45|          27.59|                 30.55|                       28.86|\n",
            "|   6|           Australia|               77.75|     36.84|                         58.57|          77.44|                 72.95|                      104.63|\n",
            "|   7|             Austria|               71.04|     27.13|                         50.46|          65.88|                 66.03|                       77.25|\n",
            "|   8|          Azerbaijan|               29.73|      7.86|                         19.48|          26.57|                 26.73|                       27.26|\n",
            "|   9|             Bahamas|                84.0|     35.34|                         61.19|          70.59|                 89.09|                       45.07|\n",
            "|  10|             Bahrain|               54.77|     29.22|                         42.79|          44.59|                 48.94|                       61.41|\n",
            "|  11|          Bangladesh|               33.13|      4.42|                         19.67|          30.41|                  21.7|                        25.3|\n",
            "|  12|            Barbados|               92.37|     21.99|                         59.38|          87.81|                 78.18|                       32.08|\n",
            "|  13|             Belarus|               30.89|      9.81|                         21.01|          27.24|                 31.64|                       31.78|\n",
            "|  14|             Belgium|               72.61|     25.79|                         50.67|          63.32|                 78.63|                       79.72|\n",
            "|  15|              Belize|                51.3|     11.64|                         32.71|          48.76|                  36.6|                       45.73|\n",
            "|  16|             Bermuda|              146.04|     98.58|                         123.8|         148.66|                159.17|                       81.07|\n",
            "|  17|             Bolivia|               34.77|     10.18|                         23.24|          31.26|                 24.97|                       36.04|\n",
            "|  18|Bosnia And Herzeg...|               36.12|      6.82|                         22.39|          31.14|                 25.34|                        44.1|\n",
            "|  19|            Botswana|               40.17|     10.21|                         26.12|          35.16|                  42.5|                       62.63|\n",
            "|  20|              Brazil|               33.24|      8.27|                         21.54|          28.16|                 25.24|                       27.85|\n",
            "+----+--------------------+--------------------+----------+------------------------------+---------------+----------------------+----------------------------+\n",
            "only showing top 20 rows\n",
            "\n"
          ]
        }
      ]
    },
    {
      "cell_type": "code",
      "source": [
        "#Checking attributes with their data type\n",
        "df_train.printSchema()"
      ],
      "metadata": {
        "colab": {
          "base_uri": "https://localhost:8080/"
        },
        "id": "IPf0-U6o066L",
        "outputId": "7a478bc7-fc88-4619-a615-c3fec492707f"
      },
      "execution_count": 6,
      "outputs": [
        {
          "output_type": "stream",
          "name": "stdout",
          "text": [
            "root\n",
            " |-- Rank: integer (nullable = true)\n",
            " |-- Country: string (nullable = true)\n",
            " |-- Cost of Living Index: double (nullable = true)\n",
            " |-- Rent Index: double (nullable = true)\n",
            " |-- Cost of Living Plus Rent Index: double (nullable = true)\n",
            " |-- Groceries Index: double (nullable = true)\n",
            " |-- Restaurant Price Index: double (nullable = true)\n",
            " |-- Local Purchasing Power Index: double (nullable = true)\n",
            "\n"
          ]
        }
      ]
    },
    {
      "cell_type": "code",
      "source": [
        "#assembling the columns\n",
        "from pyspark.ml.feature import VectorAssembler\n",
        "featureassembler= VectorAssembler(inputCols=['Rent Index', 'Cost of Living Plus Rent Index', 'Groceries Index', 'Restaurant Price Index', 'Local Purchasing Power Index'], outputCol='Independant Features')"
      ],
      "metadata": {
        "id": "mVjjuksT1Jp0"
      },
      "execution_count": 7,
      "outputs": []
    },
    {
      "cell_type": "code",
      "source": [
        "output=featureassembler.transform(df_train)"
      ],
      "metadata": {
        "id": "bG2L7Qw92ULb"
      },
      "execution_count": 8,
      "outputs": []
    },
    {
      "cell_type": "code",
      "source": [],
      "metadata": {
        "id": "h6gmKsgW_iFR"
      },
      "execution_count": null,
      "outputs": []
    },
    {
      "cell_type": "code",
      "source": [
        "output.show()"
      ],
      "metadata": {
        "colab": {
          "base_uri": "https://localhost:8080/"
        },
        "id": "aaY44Viz2dVa",
        "outputId": "d15c09ea-79ad-42e9-8bf9-fadb81a0d04e"
      },
      "execution_count": 9,
      "outputs": [
        {
          "output_type": "stream",
          "name": "stdout",
          "text": [
            "+----+--------------------+--------------------+----------+------------------------------+---------------+----------------------+----------------------------+--------------------+\n",
            "|Rank|             Country|Cost of Living Index|Rent Index|Cost of Living Plus Rent Index|Groceries Index|Restaurant Price Index|Local Purchasing Power Index|Independant Features|\n",
            "+----+--------------------+--------------------+----------+------------------------------+---------------+----------------------+----------------------------+--------------------+\n",
            "|   1|         Afghanistan|               20.37|      2.72|                         12.09|          14.92|                 12.41|                       23.04|[2.72,12.09,14.92...|\n",
            "|   2|             Albania|                35.5|      8.47|                         22.83|          29.32|                 25.82|                       30.19|[8.47,22.83,29.32...|\n",
            "|   3|             Algeria|               26.87|      4.59|                         16.43|          28.82|                 14.48|                       24.63|[4.59,16.43,28.82...|\n",
            "|   4|           Argentina|               34.69|      7.71|                         22.04|          28.17|                 33.32|                       30.72|[7.71,22.04,28.17...|\n",
            "|   5|             Armenia|               33.89|     11.61|                         23.45|          27.59|                 30.55|                       28.86|[11.61,23.45,27.5...|\n",
            "|   6|           Australia|               77.75|     36.84|                         58.57|          77.44|                 72.95|                      104.63|[36.84,58.57,77.4...|\n",
            "|   7|             Austria|               71.04|     27.13|                         50.46|          65.88|                 66.03|                       77.25|[27.13,50.46,65.8...|\n",
            "|   8|          Azerbaijan|               29.73|      7.86|                         19.48|          26.57|                 26.73|                       27.26|[7.86,19.48,26.57...|\n",
            "|   9|             Bahamas|                84.0|     35.34|                         61.19|          70.59|                 89.09|                       45.07|[35.34,61.19,70.5...|\n",
            "|  10|             Bahrain|               54.77|     29.22|                         42.79|          44.59|                 48.94|                       61.41|[29.22,42.79,44.5...|\n",
            "|  11|          Bangladesh|               33.13|      4.42|                         19.67|          30.41|                  21.7|                        25.3|[4.42,19.67,30.41...|\n",
            "|  12|            Barbados|               92.37|     21.99|                         59.38|          87.81|                 78.18|                       32.08|[21.99,59.38,87.8...|\n",
            "|  13|             Belarus|               30.89|      9.81|                         21.01|          27.24|                 31.64|                       31.78|[9.81,21.01,27.24...|\n",
            "|  14|             Belgium|               72.61|     25.79|                         50.67|          63.32|                 78.63|                       79.72|[25.79,50.67,63.3...|\n",
            "|  15|              Belize|                51.3|     11.64|                         32.71|          48.76|                  36.6|                       45.73|[11.64,32.71,48.7...|\n",
            "|  16|             Bermuda|              146.04|     98.58|                         123.8|         148.66|                159.17|                       81.07|[98.58,123.8,148....|\n",
            "|  17|             Bolivia|               34.77|     10.18|                         23.24|          31.26|                 24.97|                       36.04|[10.18,23.24,31.2...|\n",
            "|  18|Bosnia And Herzeg...|               36.12|      6.82|                         22.39|          31.14|                 25.34|                        44.1|[6.82,22.39,31.14...|\n",
            "|  19|            Botswana|               40.17|     10.21|                         26.12|          35.16|                  42.5|                       62.63|[10.21,26.12,35.1...|\n",
            "|  20|              Brazil|               33.24|      8.27|                         21.54|          28.16|                 25.24|                       27.85|[8.27,21.54,28.16...|\n",
            "+----+--------------------+--------------------+----------+------------------------------+---------------+----------------------+----------------------------+--------------------+\n",
            "only showing top 20 rows\n",
            "\n"
          ]
        }
      ]
    },
    {
      "cell_type": "code",
      "source": [
        "output.columns"
      ],
      "metadata": {
        "colab": {
          "base_uri": "https://localhost:8080/"
        },
        "id": "G69nwOwr5gFr",
        "outputId": "65b2bed8-ad76-48d2-b518-af98239b8042"
      },
      "execution_count": 10,
      "outputs": [
        {
          "output_type": "execute_result",
          "data": {
            "text/plain": [
              "['Rank',\n",
              " 'Country',\n",
              " 'Cost of Living Index',\n",
              " 'Rent Index',\n",
              " 'Cost of Living Plus Rent Index',\n",
              " 'Groceries Index',\n",
              " 'Restaurant Price Index',\n",
              " 'Local Purchasing Power Index',\n",
              " 'Independant Features']"
            ]
          },
          "metadata": {},
          "execution_count": 10
        }
      ]
    },
    {
      "cell_type": "markdown",
      "source": [
        "Create the final output with the dataset target variable"
      ],
      "metadata": {
        "id": "GAXciU6q41Py"
      }
    },
    {
      "cell_type": "code",
      "source": [
        "#The select() is a transformation function that is used to select the columns from the dataset\n",
        "fin_output=output.select(\"Independant Features\", \"Cost of Living Index\")"
      ],
      "metadata": {
        "id": "2pDLYbYr3HYD"
      },
      "execution_count": 11,
      "outputs": []
    },
    {
      "cell_type": "code",
      "source": [
        "fin_output.show()"
      ],
      "metadata": {
        "colab": {
          "base_uri": "https://localhost:8080/"
        },
        "id": "9gmipb2G6l9Z",
        "outputId": "9a68bf92-1628-41fb-f789-0c1ae5d721b2"
      },
      "execution_count": 12,
      "outputs": [
        {
          "output_type": "stream",
          "name": "stdout",
          "text": [
            "+--------------------+--------------------+\n",
            "|Independant Features|Cost of Living Index|\n",
            "+--------------------+--------------------+\n",
            "|[2.72,12.09,14.92...|               20.37|\n",
            "|[8.47,22.83,29.32...|                35.5|\n",
            "|[4.59,16.43,28.82...|               26.87|\n",
            "|[7.71,22.04,28.17...|               34.69|\n",
            "|[11.61,23.45,27.5...|               33.89|\n",
            "|[36.84,58.57,77.4...|               77.75|\n",
            "|[27.13,50.46,65.8...|               71.04|\n",
            "|[7.86,19.48,26.57...|               29.73|\n",
            "|[35.34,61.19,70.5...|                84.0|\n",
            "|[29.22,42.79,44.5...|               54.77|\n",
            "|[4.42,19.67,30.41...|               33.13|\n",
            "|[21.99,59.38,87.8...|               92.37|\n",
            "|[9.81,21.01,27.24...|               30.89|\n",
            "|[25.79,50.67,63.3...|               72.61|\n",
            "|[11.64,32.71,48.7...|                51.3|\n",
            "|[98.58,123.8,148....|              146.04|\n",
            "|[10.18,23.24,31.2...|               34.77|\n",
            "|[6.82,22.39,31.14...|               36.12|\n",
            "|[10.21,26.12,35.1...|               40.17|\n",
            "|[8.27,21.54,28.16...|               33.24|\n",
            "+--------------------+--------------------+\n",
            "only showing top 20 rows\n",
            "\n"
          ]
        }
      ]
    },
    {
      "cell_type": "code",
      "source": [
        "#Appling Linear regression on the dataset\n",
        "from pyspark.ml.regression import LinearRegression"
      ],
      "metadata": {
        "id": "MBV0yObw7a4y"
      },
      "execution_count": 13,
      "outputs": []
    },
    {
      "cell_type": "code",
      "source": [
        "train_x, test_x = fin_output.randomSplit([0.8, 0.2])"
      ],
      "metadata": {
        "id": "TCvjy4Li71ma"
      },
      "execution_count": 14,
      "outputs": []
    },
    {
      "cell_type": "code",
      "source": [
        "reg=LinearRegression(featuresCol = 'Independant Features', labelCol= 'Cost of Living Index')"
      ],
      "metadata": {
        "id": "hyxEEcRG8GVg"
      },
      "execution_count": 21,
      "outputs": []
    },
    {
      "cell_type": "code",
      "source": [
        "reg= reg.fit(train_x)"
      ],
      "metadata": {
        "id": "kgpePaUc8d6h"
      },
      "execution_count": 16,
      "outputs": []
    },
    {
      "cell_type": "code",
      "source": [
        "reg.coefficients"
      ],
      "metadata": {
        "colab": {
          "base_uri": "https://localhost:8080/"
        },
        "id": "AEu6pNuI9lay",
        "outputId": "c2566c3d-01ce-4893-c6b9-55589e80fc13"
      },
      "execution_count": 17,
      "outputs": [
        {
          "output_type": "execute_result",
          "data": {
            "text/plain": [
              "DenseVector([-0.8826, 1.883, -0.0002, -0.0002, 0.0])"
            ]
          },
          "metadata": {},
          "execution_count": 17
        }
      ]
    },
    {
      "cell_type": "code",
      "source": [
        "reg.intercept"
      ],
      "metadata": {
        "colab": {
          "base_uri": "https://localhost:8080/"
        },
        "id": "ZexzXVeE9q14",
        "outputId": "b7dc7d0b-cca5-4b85-9e30-bd787f1b9e5b"
      },
      "execution_count": 18,
      "outputs": [
        {
          "output_type": "execute_result",
          "data": {
            "text/plain": [
              "-0.0007573925783394953"
            ]
          },
          "metadata": {},
          "execution_count": 18
        }
      ]
    },
    {
      "cell_type": "code",
      "source": [
        "pred=reg.evaluate(test_x)"
      ],
      "metadata": {
        "id": "v3rEs4cz9vRZ"
      },
      "execution_count": 19,
      "outputs": []
    },
    {
      "cell_type": "code",
      "source": [
        "pred.predictions.show()"
      ],
      "metadata": {
        "colab": {
          "base_uri": "https://localhost:8080/"
        },
        "id": "_Moxrf8q92Xw",
        "outputId": "92c43b40-6054-4712-e097-8e5a8fd1eb37"
      },
      "execution_count": 20,
      "outputs": [
        {
          "output_type": "stream",
          "name": "stdout",
          "text": [
            "+--------------------+--------------------+------------------+\n",
            "|Independant Features|Cost of Living Index|        prediction|\n",
            "+--------------------+--------------------+------------------+\n",
            "|[8.27,21.54,28.16...|               33.24| 33.24987339052216|\n",
            "|[8.47,22.83,29.32...|                35.5|35.502116278348936|\n",
            "|[8.73,22.11,31.27...|               33.92|  33.9159544116544|\n",
            "|[9.07,24.64,34.02...|               38.38|38.378930579389376|\n",
            "|[9.26,20.37,26.44...|               30.18|30.172988237161853|\n",
            "|[9.44,19.66,25.35...|               28.68|28.677552445112475|\n",
            "|[9.59,24.18,37.84...|               37.06|37.054252815575644|\n",
            "|[10.04,20.75,25.4...|                30.2| 30.20080047596861|\n",
            "|[10.28,26.31,34.7...|               40.46|  40.4557406526874|\n",
            "|[11.22,22.54,30.7...|               32.53| 32.52909263783733|\n",
            "|[11.64,32.71,48.7...|                51.3|51.302327181930195|\n",
            "|[12.36,23.23,30.0...|               32.81|32.821570814314406|\n",
            "|[12.55,24.66,34.8...|               35.35|35.344643954826914|\n",
            "|[12.87,26.72,31.7...|               38.95| 38.94178104987562|\n",
            "|[13.38,32.27,41.9...|               48.94|48.938928103435735|\n",
            "|[13.51,29.66,38.8...|                43.9| 43.90966554621372|\n",
            "|[14.45,27.46,32.4...|               38.95| 38.94093565617668|\n",
            "|[14.69,29.84,45.1...|               43.21| 43.20882074514951|\n",
            "|[15.01,31.29,36.1...|               45.65|45.655629229577336|\n",
            "|[15.23,36.36,47.9...|                55.0| 55.00651295957819|\n",
            "+--------------------+--------------------+------------------+\n",
            "only showing top 20 rows\n",
            "\n"
          ]
        }
      ]
    },
    {
      "cell_type": "code",
      "source": [
        "pred.meanAbsoluteError, pred.rootMeanSquaredError"
      ],
      "metadata": {
        "colab": {
          "base_uri": "https://localhost:8080/"
        },
        "id": "HzaWlRvr-fzI",
        "outputId": "1e0db802-8da5-4411-a763-0efa4e9abd89"
      },
      "execution_count": null,
      "outputs": [
        {
          "output_type": "execute_result",
          "data": {
            "text/plain": [
              "(0.006005548006720167, 0.007391279461881669)"
            ]
          },
          "metadata": {},
          "execution_count": 62
        }
      ]
    }
  ]
}